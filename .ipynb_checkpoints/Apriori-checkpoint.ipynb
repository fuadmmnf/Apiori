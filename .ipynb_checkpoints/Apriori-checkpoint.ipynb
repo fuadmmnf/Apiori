{
 "cells": [
  {
   "cell_type": "code",
   "execution_count": 1,
   "metadata": {},
   "outputs": [],
   "source": [
    "import pandas as pd\n",
    "import itertools"
   ]
  },
  {
   "cell_type": "code",
   "execution_count": 2,
   "metadata": {},
   "outputs": [],
   "source": [
    "def getSupport(key):\n",
    "    \"\"\" Use bool to know is subset or not \"\"\"\n",
    "    \n",
    "    count = 0\n",
    "    total = 0\n",
    "    file = open('data.csv')\n",
    "    for l in file:\n",
    "        #print(l)\n",
    "        total += 1\n",
    "#         l = str(l.split())\n",
    "        l = l.rstrip()\n",
    "        \n",
    "        flag = True\n",
    "#         print(key)\n",
    "        for k in key:\n",
    "#             print(k)\n",
    "#             print(\"--------\")\n",
    "#             print(l.split(','))\n",
    "            if k not in l.split(','):\n",
    "                \n",
    "                flag = False\n",
    "        if flag:\n",
    "            count += 1\n",
    "    file.close()\n",
    "#     print(key, count,total)\n",
    "    support = count/total\n",
    "    return support"
   ]
  },
  {
   "cell_type": "code",
   "execution_count": 3,
   "metadata": {},
   "outputs": [],
   "source": [
    "def getCombinations(input):\n",
    "    return sum([list(map(list, combinations(input, i))) for i in range(len(input) + 1)], [])"
   ]
  },
  {
   "cell_type": "code",
   "execution_count": 4,
   "metadata": {},
   "outputs": [],
   "source": [
    "def getConfidence(str_x, str_y):\n",
    "    xUniony = str_x.copy()\n",
    "    for y in str_y:\n",
    "        if y not in str_x:\n",
    "            xUniony.append(y)\n",
    "    xUnionySupp = getSupport(xUniony)\n",
    "    sSupp = getSupport(str_x)\n",
    "    if sSupp == 0:\n",
    "        return 0\n",
    "    return xUnionySupp/sSupp"
   ]
  },
  {
   "cell_type": "code",
   "execution_count": 5,
   "metadata": {},
   "outputs": [],
   "source": [
    "def Apriori_gen(Itemset, lenght):\n",
    "  \n",
    "    canditate = []\n",
    "    canditate_index = 0\n",
    "    for i in range (0,lenght):\n",
    "        element = str(Itemset[i])\n",
    "        elementList = element.split(',')\n",
    "        for j in range (i+1,lenght):\n",
    "            element1 = str(Itemset[j])\n",
    "            elementList2 = element1.split(',')\n",
    "            if elementList[0:(len(elementList)-1)] == elementList2[0:(len(elementList2)-1)]:\n",
    "                commonList = elementList[0:(len(elementList)-1)]\n",
    "                commonList.append(elementList[len(elementList)-1])\n",
    "                commonList.append(elementList2[len(elementList2)-1])\n",
    "               \n",
    "            \n",
    "            \n",
    "                commonList.sort()\n",
    "                commonStr = \"\";\n",
    "                for i in range(len(commonList)):\n",
    "                    commonStr += commonList[i];\n",
    "                    if i != len(commonList)-1:\n",
    "                        commonStr += ','\n",
    "                #unionset = commonStr + elementList[len(elementList)-1] +','+ elementList2[len(elementList2)-1] \n",
    "            \n",
    "                \n",
    "                unionset = ''.join(commonStr)  #Sort itemset by dict order\n",
    "                canditate.append(unionset)\n",
    "    return canditate\n",
    "\n",
    "\n"
   ]
  },
  {
   "cell_type": "code",
   "execution_count": 6,
   "metadata": {},
   "outputs": [],
   "source": [
    "def Apriori_prune(Ck,MinSupport):\n",
    "    L = []\n",
    "    for i in Ck.keys():\n",
    "        if Ck[i] >= minsupport:\n",
    "            L.append(i)\n",
    "    return sorted(L)"
   ]
  },
  {
   "cell_type": "code",
   "execution_count": 7,
   "metadata": {},
   "outputs": [],
   "source": [
    "def Apriori_count_subset(Canditate,Canditate_len):\n",
    "    \"\"\" Use bool to know is subset or not \"\"\"\n",
    "    Lk = dict()\n",
    "    file = open('data.csv')\n",
    "    for l in file:\n",
    "        #l = str(l.split())\n",
    "        l = l.rstrip()\n",
    "        count = 0\n",
    "        for i in range (0,Canditate_len):\n",
    "            key = str(Canditate[i])\n",
    "            if key not in Lk:\n",
    "                Lk[key] = 0\n",
    "            flag = True\n",
    "            for k in key.split(','):\n",
    "                if k not in l.split(','):\n",
    "                    flag = False\n",
    "            if flag:\n",
    "                Lk[key] += 1\n",
    "    file.close()\n",
    "    return Lk"
   ]
  },
  {
   "cell_type": "code",
   "execution_count": 43,
   "metadata": {},
   "outputs": [
    {
     "name": "stdout",
     "output_type": "stream",
     "text": [
      "0.021778584392014518\n"
     ]
    }
   ],
   "source": [
    "str_x = \"whole milk,yogurt\"\n",
    "str_y = \"processed cheese\"\n",
    "\n",
    "xUniony = \"\"+str_x\n",
    "for y in str_y.split(','):\n",
    "    if y not in str_x.split(','):\n",
    "        xUniony += ','+y\n",
    "print(getSupport(xUniony)/getSupport(str_x))\n",
    "# print(getSupport(xUniony))"
   ]
  },
  {
   "cell_type": "code",
   "execution_count": 8,
   "metadata": {
    "scrolled": true
   },
   "outputs": [],
   "source": [
    "def calculateAllConfidence():\n",
    "\n",
    "    minsupport = 2\n",
    "    candidateDict={} \n",
    "    file = open('data.csv')\n",
    "    f = open(\"output.txt\", \"w\")\n",
    "    output = open('output.txt')\n",
    "    \"\"\"Count one canditate\"\"\"\n",
    "    for line in file:\n",
    "\n",
    "        line = line.rstrip()\n",
    "        for item in line.split(','):\n",
    "            if item in candidateDict:\n",
    "                candidateDict[item] +=1\n",
    "            else:\n",
    "                candidateDict[item] = 1\n",
    "    file.close()\n",
    "    L = []\n",
    "    L1 = Apriori_prune(candidateDict,minsupport)\n",
    "    L = Apriori_gen(L1,len(L1))\n",
    "\n",
    "    k=2\n",
    "    while L != []:\n",
    "        C = dict()\n",
    "        C = Apriori_count_subset(L,len(L))\n",
    "        frequent_itemset = []\n",
    "        frequent_itemset = Apriori_prune(C,minsupport)\n",
    "\n",
    "        for item in L:\n",
    "            #print('item', item)\n",
    "            for i in range(4):\n",
    "\n",
    "                for c in itertools.combinations(item.split(','), i):\n",
    "\n",
    "                    str_x = list(c)\n",
    "                    str_y = item.split(',')\n",
    "                    for x in str_x:\n",
    "                        if x in str_y:\n",
    "                            str_y.remove(x)\n",
    "\n",
    "\n",
    "                    commonStr = ''\n",
    "                    if(len(str_x)!=0 and len(str_y)!=0):\n",
    "                        print('x', str_x)\n",
    "                        print('y', str_y)\n",
    "                        print('--------')\n",
    "\n",
    "                        for it in range(len(str_x)-1):\n",
    "                            commonStr += str_x[it]+',';\n",
    "                            #print('common',commonStr)\n",
    "\n",
    "                        commonStr += str_x[len(str_x)-1]\n",
    "\n",
    "                        commonStr += \"->\"\n",
    "\n",
    "                        for it in range(len(str_y)-1):\n",
    "                            commonStr += str_y[it]+',';\n",
    "                        #print(str_x,)\n",
    "                        commonStr += str_y[len(str_y)-1] \n",
    "\n",
    "                        commonStr += \"->\"\n",
    "\n",
    "                        commonStr +=  str(getConfidence(str_x, str_y))\n",
    "    #                     print(commonStr)\n",
    "                        f.write(commonStr+'\\n') \n",
    "\n",
    "        L = Apriori_gen(frequent_itemset,len(frequent_itemset))\n",
    "        k += 1\n",
    "\n",
    "    f.close()"
   ]
  },
  {
   "cell_type": "code",
   "execution_count": 10,
   "metadata": {},
   "outputs": [
    {
     "name": "stdout",
     "output_type": "stream",
     "text": [
      "i1\n",
      "i2,i3\n",
      "i1->i2,i3->0.3333333333333333\n",
      "\n"
     ]
    }
   ],
   "source": [
    "x_input =input()\n",
    "y_input = input()\n",
    "f = open(\"output.txt\")\n",
    "\n",
    "queryStr = x_input+\"->\"+y_input\n",
    "found = False\n",
    "for line in f:\n",
    "    if queryStr in line:\n",
    "        found = True\n",
    "        print('output',line)\n",
    "        break\n",
    "        \n",
    "if found == False:\n",
    "    print(\"not found\")"
   ]
  },
  {
   "cell_type": "code",
   "execution_count": null,
   "metadata": {},
   "outputs": [],
   "source": []
  }
 ],
 "metadata": {
  "kernelspec": {
   "display_name": "Python 3",
   "language": "python",
   "name": "python3"
  },
  "language_info": {
   "codemirror_mode": {
    "name": "ipython",
    "version": 3
   },
   "file_extension": ".py",
   "mimetype": "text/x-python",
   "name": "python",
   "nbconvert_exporter": "python",
   "pygments_lexer": "ipython3",
   "version": "3.7.1"
  }
 },
 "nbformat": 4,
 "nbformat_minor": 2
}
